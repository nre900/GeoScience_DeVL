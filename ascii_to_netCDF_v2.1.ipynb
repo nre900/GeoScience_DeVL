{
 "cells": [
  {
   "cell_type": "markdown",
   "metadata": {},
   "source": [
    "# Convert MT time-series to netCDF\n",
    "\n",
    "\n",
    "### In this notebook, we will create netCDF files from our MT time-series data. "
   ]
  },
  {
   "cell_type": "markdown",
   "metadata": {},
   "source": [
    "### Clear notebook memory"
   ]
  },
  {
   "cell_type": "code",
   "execution_count": 131,
   "metadata": {
    "collapsed": false
   },
   "outputs": [],
   "source": [
    "%reset -f\n",
    "\n",
    "#%whos"
   ]
  },
  {
   "cell_type": "markdown",
   "metadata": {},
   "source": [
    "### Import python modules"
   ]
  },
  {
   "cell_type": "code",
   "execution_count": 1,
   "metadata": {
    "collapsed": true
   },
   "outputs": [],
   "source": [
    "import os\n",
    "import matplotlib.pyplot as plt\n",
    "import numpy as np\n",
    "from netCDF4 import Dataset\n",
    "from netCDF4 import num2date, date2num\n",
    "from datetime import datetime, timedelta\n",
    "#from multiprocessing import Process, Queue\n",
    "#from multiprocessing import Pool\n",
    "#import multiprocessing\n",
    "#import pandas as pd\n",
    "#from multiprocessing import Pool, cpu_count\n",
    "%matplotlib inline"
   ]
  },
  {
   "cell_type": "code",
   "execution_count": 2,
   "metadata": {
    "collapsed": true
   },
   "outputs": [],
   "source": [
    "working_dir = '/g/data/my80/States_and_Territories/test/TS/example_TS_ascii_to_netcdf'\n",
    "os.chdir(working_dir)"
   ]
  },
  {
   "cell_type": "markdown",
   "metadata": {},
   "source": [
    "### Open TS ascii files and create variables to input into netCDF file"
   ]
  },
  {
   "cell_type": "code",
   "execution_count": 3,
   "metadata": {
    "collapsed": false
   },
   "outputs": [],
   "source": [
    "LEX = sorted([f for f in os.listdir(working_dir) if f.startswith('cp1') and f.endswith('.ex')])\n",
    "LEY = sorted([f for f in os.listdir(working_dir) if f.startswith('cp1') and f.endswith('.ey')])\n",
    "LBX = sorted([f for f in os.listdir(working_dir) if f.startswith('cp1') and f.endswith('.bx')])\n",
    "LBY = sorted([f for f in os.listdir(working_dir) if f.startswith('cp1') and f.endswith('.by')])\n",
    "EX1 = []\n",
    "EY1 = []\n",
    "BX1 = []\n",
    "BY1 = []\n",
    "\n",
    "types = [LEX]"
   ]
  },
  {
   "cell_type": "code",
   "execution_count": 4,
   "metadata": {
    "collapsed": false
   },
   "outputs": [
    {
     "name": "stdout",
     "output_type": "stream",
     "text": [
      "cp1b01_296.ex\n",
      "cp1b01_296.ey\n",
      "cp1b01_296.bx\n",
      "cp1b01_296.by\n"
     ]
    }
   ],
   "source": [
    "def array_for_netcdf(ty):\n",
    "    for i in ty:\n",
    "        for a in i:\n",
    "            if a.endswith('ex'):\n",
    "                print a\n",
    "                df = open(a)\n",
    "                for line in df:\n",
    "                    EX1.append(line)\n",
    "            elif a.endswith('ey'):\n",
    "                print a\n",
    "                df = open(a)\n",
    "                for line in df:\n",
    "                    EY1.append(line)\n",
    "            elif a.endswith('bx'):\n",
    "                print a\n",
    "                df = open(a)\n",
    "                for line in df:\n",
    "                    BX1.append(line)\n",
    "            elif a.endswith('by'):\n",
    "                print a\n",
    "                df = open(a)\n",
    "                for line in df:\n",
    "                    BY1.append(line)\n",
    "            else:\n",
    "                print 'something went horribly wrong'\n",
    "    \n",
    "if __name__ == '__main__':\n",
    "    ty = [LEX, LEY, LBX, LBY]\n",
    "    array_for_netcdf(ty)"
   ]
  },
  {
   "cell_type": "markdown",
   "metadata": {},
   "source": [
    "### Check that variables are the correct length"
   ]
  },
  {
   "cell_type": "code",
   "execution_count": 5,
   "metadata": {
    "collapsed": false
   },
   "outputs": [
    {
     "name": "stdout",
     "output_type": "stream",
     "text": [
      "82800000\n",
      "82800000\n",
      "82800000\n",
      "82800000\n"
     ]
    }
   ],
   "source": [
    "print len(EX1)\n",
    "print len(EY1)\n",
    "print len(BX1)\n",
    "print len(BY1)"
   ]
  },
  {
   "cell_type": "markdown",
   "metadata": {},
   "source": [
    "### Create a time variable"
   ]
  },
  {
   "cell_type": "code",
   "execution_count": 7,
   "metadata": {
    "collapsed": false
   },
   "outputs": [],
   "source": [
    "#timea = pd.period_range('2010-10-23 01:00:00', periods=82800000, freq='L' )\n",
    "#time1 = np.array(timea)\n",
    "\n",
    "t1 = float(1287756000)\n",
    "t2 = float(1287838799)\n",
    "\n",
    "time1 = np.linspace(t1,t2,num = len(EX1))\n"
   ]
  },
  {
   "cell_type": "markdown",
   "metadata": {},
   "source": [
    "### Check start-time and end-time are correct"
   ]
  },
  {
   "cell_type": "code",
   "execution_count": 9,
   "metadata": {
    "collapsed": false
   },
   "outputs": [
    {
     "name": "stdout",
     "output_type": "stream",
     "text": [
      "2010-10-23 01:00:00\n",
      "2010-10-23 23:59:59\n"
     ]
    }
   ],
   "source": [
    "print datetime.fromtimestamp(t1)\n",
    "print datetime.fromtimestamp(t2)"
   ]
  },
  {
   "cell_type": "markdown",
   "metadata": {},
   "source": [
    "### Check TS variables look reasonable"
   ]
  },
  {
   "cell_type": "code",
   "execution_count": 140,
   "metadata": {
    "collapsed": false
   },
   "outputs": [
    {
     "data": {
      "text/plain": [
       "[<matplotlib.lines.Line2D at 0x7fcfa92c8690>]"
      ]
     },
     "execution_count": 140,
     "metadata": {},
     "output_type": "execute_result"
    },
    {
     "data": {
      "image/png": "[encoded data removed]",
      "text/plain": [
       "<matplotlib.figure.Figure at 0x7fcf9faf4350>"
      ]
     },
     "metadata": {},
     "output_type": "display_data"
    }
   ],
   "source": [
    "plt.plot(time1[:100],EX1[:100],color='r')"
   ]
  },
  {
   "cell_type": "markdown",
   "metadata": {},
   "source": [
    "### Create netCDF file and add time-series dimensions and variables (including local attributes)"
   ]
  },
  {
   "cell_type": "code",
   "execution_count": 10,
   "metadata": {
    "collapsed": false
   },
   "outputs": [],
   "source": [
    "dataset_P = Dataset('netCDF_test.nc','w',format='NETCDF4')\n",
    "\n",
    "ex = dataset_P.createDimension('ex', len(EX1))\n",
    "ey = dataset_P.createDimension('ey', len(EY1))\n",
    "bx = dataset_P.createDimension('bx', len(BX1))\n",
    "by = dataset_P.createDimension('by', len(BY1))\n",
    "time = dataset_P.createDimension('time', len(time1))\n",
    "\n",
    "lon1 = [134.5]\n",
    "\n",
    "LON = dataset_P.createDimension('longitude', len(lon1))\n",
    "lons = dataset_P.createVariable('longitude',np.float32,('longitude',))\n",
    "lons.units = 'degrees_east'\n",
    "lons.long_name = 'longitude'\n",
    "lons.standard_name = 'longitude'\n",
    "lons[:] = lon1\n",
    "\n",
    "lat1 = [-27.1]\n",
    "\n",
    "LAT = dataset_P.createDimension('latitude', len(lat1))\n",
    "lats = dataset_P.createVariable('latitude',np.float32,('latitude',))\n",
    "lats.units = 'degrees_north'\n",
    "lats.long_name = 'latitude'\n",
    "lats.standard_name = 'latitude'\n",
    "lats[:] = lat1\n",
    "\n",
    "ex = dataset_P.createVariable('ex',np.float32,('ex',))\n",
    "ex.units = 'microV/m'\n",
    "ex.long_name = 'electric field in x direction'\n",
    "ex.standard_name = 'electric field'\n",
    "ex.sampling_rate = '1000 Hz'\n",
    "ex.dipole_length = '46 m'\n",
    "ex.logger_gain = '1'\n",
    "ex.interface_box_gain = '10'\n",
    "ex.instrument_type = 'Ag-AgCl electrodes'\n",
    "ex.logger_type = 'zen'\n",
    "ex.azimuth = '0'\n",
    "ex[:] = EX1\n",
    "\n",
    "\n",
    "ey = dataset_P.createVariable('ey',np.float32,('ey',))\n",
    "ey.units = 'microV/m'\n",
    "ey.long_name = 'electric field in y direction'\n",
    "ey.standard_name = 'electric field'\n",
    "ey.sampling_rate = '1000 Hz'\n",
    "ey.dipole_length = '49 m'\n",
    "ey.logger_gain = '1'\n",
    "ey.interface_box_gain = '10'\n",
    "ey.instrument_type = 'Ag-AgCl electrodes'\n",
    "ey.logger_type = 'zen'\n",
    "ey.azimuth = '90'\n",
    "ey[:] = EY1\n",
    "\n",
    "bx = dataset_P.createVariable('bx',np.float32,('bx',))\n",
    "bx.units = 'microV/nT'\n",
    "bx.long_name = 'Long period magnetic field in x direction'\n",
    "bx.standard_name = 'magnetic field'\n",
    "bx.sampling_rate = '1000 Hz'\n",
    "bx.magnetic_declination = '0'\n",
    "bx.azimuth = '0'\n",
    "bx.logger_gain = '1'\n",
    "bx.interface_box_gain = '10'\n",
    "bx[:] = BX1\n",
    "\n",
    "by = dataset_P.createVariable('by',np.float32,('by',))\n",
    "by.units = 'microV/nT'\n",
    "by.long_name = 'Long period magnetic field in y direction'\n",
    "by.standard_name = 'magnetic field'\n",
    "by.sampling_rate = '1000 Hz'\n",
    "by.magnetic_declination = '0'\n",
    "by.azimuth = '90'\n",
    "by.logger_gain = '1'\n",
    "by.interface_box_gain = '10'\n",
    "by[:] = BY1\n",
    "\n",
    "\n",
    "time = dataset_P.createVariable('time',np.float64,('time',))\n",
    "time.units = 'seconds'\n",
    "time.long_name = 'time'\n",
    "time.standard_name = 'time'\n",
    "time.sampling_rate = '1000 Hz'\n",
    "time[:] = time1\n"
   ]
  },
  {
   "cell_type": "markdown",
   "metadata": {},
   "source": [
    "### Add global attributes to netCDF file"
   ]
  },
  {
   "cell_type": "code",
   "execution_count": 11,
   "metadata": {
    "collapsed": true
   },
   "outputs": [],
   "source": [
    "# Global Attributes\n",
    "\n",
    "dataset_P.title = 'Capricorn Orogen magnetotelluric (MT) surveys 2010'\n",
    "dataset_P.summary = 'This survey was conducted across the southern Pilbara and Gascoyne regions from April to early July 2010. The addition of this survey to the existing set improves the understanding of the crustal structure of Western Australia.This survey was conducted across the southern Pilbara and Gascoyne regions from April to early July 2010. The addition of this survey to the existing set improves the understanding of the crustal structure of Western Australia. The Capricorn Orogen deep seismic reflection and MT surveys were funded through the Exploration Incentive Scheme (EIS) and through the Australia Federal Governments National Earth Science Infrastructure Program (AuScope). Acquisition and interpretation was managed by Geoscience Australia (GA) and the Australian National Seismic Imaging Resource (ANSIR) through the National Geoscience Agreement. The main objectives for the Capricorn survey were to image the: 1) overall structure and dip of the suture between the Yilgarn Craton and Gascoyne Province (Errabiddy Shear Zone), and the suture between the Pilbara Craton and the Gascoyne Province 2) depth and shape of the Minnie Creek batholith and other Proterozoic granite intrusions 3) nature of reactivated Fortescue Group growth faults in the southern Pilbara 4) dip of major faults that mark the boundary between the Pilbara Craton and the Ashburton Basin 5) deep crustal structure of the Ashburton Basin 6) deep crustal structure of the Edmund and Collier Basins and nature of major growth faults, such as the Talga Fault '\n",
    "dataset_P.source = 'The University of Adelaide'\n",
    "dataset_P.date_created = '20180501T113000'\n",
    "dataset_P.Conventions = 'ACDD-1.3'\n",
    "dataset_P.metadata_link = ' https://geoenetwork.nci.org.au/geonetwork/srv/eng/catalog.search#/metadata/fxxxxx'\n",
    "dataset_P.license = 'Creative Commons Attribution 4.0 International (CC BY 4.0)'\n",
    "dataset_P.processing_level = 'MT broad band time-series'\n",
    "dataset_P.institution = 'The University of Adelaide'\n",
    "dataset_P.project = 'Caprocprn Orogen deep seismic reflection and magnetotelluric surveys 2010'\n",
    "dataset_P.instrument = 'Auscope long-period MT instruments'\n",
    "dataset_P.boxnumber = '26'\n",
    "dataset_P.surveydate = '2010/10/23'\n",
    "dataset_P.elevation = '2113.2'\n",
    "dataset_P.hx = '2274'\n",
    "dataset_P.hy = '2284'\n",
    "dataset_P.hz = '2254'\n",
    "dataset_P.location = 'Earth'\n",
    "dataset_P.station = 'c01'\n",
    "dataset_P.station_type = 'mt'\n",
    "dataset_P.sampling_interval = 'all'\n",
    "dataset_P.time_start = '2010-10-23T01:00:00Z'\n",
    "dataset_P.time_end = '2010-10-23T23:59:59Z'\n",
    "#dataset_P.references = 'https://doi.org/10.1071/ASEG2015ab277'\n",
    "dataset_P.keywords = 'Magnetotellurics, electrical resistivity, Long Period, WA Capricorn, Broad Band'\n",
    "dataset_P.birrpstring = birrpstring = \"\"\"0\n",
    "2\n",
    "2\n",
    "2\n",
    "-10\n",
    "65536,10\n",
    "y\n",
    "0,0.999\n",
    "0.4\n",
    "c01\n",
    "0\n",
    "1\n",
    "3\n",
    "0\n",
    "0\n",
    "20000000\n",
    "0\n",
    "{0}\n",
    "0\n",
    "0\n",
    "{1}\n",
    "0\n",
    "0\n",
    "{2}\n",
    "0\n",
    "0\n",
    "{3}\n",
    "0\n",
    "0\n",
    "{4}\n",
    "0\n",
    "0\n",
    "{5}\n",
    "0\n",
    "0,90,0\n",
    "0,90,0\n",
    "0,90,0\n",
    "\"\"\".format('ex','ey','bx','by','bx','by')\n",
    "\n",
    "dataset_P.birrp_cfg = \"\"\"[DEFAULT]\n",
    "ainuin = 0.999\n",
    "coherence_threshold = 0.4\n",
    "ilev = 0\n",
    "imode = 2\n",
    "jmode = 0\n",
    "max_window_length = 12936\n",
    "n_bisections = 10\n",
    "n_output_channels = 2\n",
    "n_samples = 20000000\n",
    "nar = 3\n",
    "nfil = 0\n",
    "ninp = 2\n",
    "nlev = 0\n",
    "nout = 2\n",
    "npcs = 1\n",
    "nskip = 0\n",
    "phi = 0\n",
    "rr_station = c01\n",
    "sampling_rate = 10.0\n",
    "station = c01\n",
    "tbw = 2\n",
    "theta1 = 0\n",
    "theta2 = 90\n",
    "uin = 0\n",
    "\"\"\"\n",
    "dataset_P.survey_cfg = \"\"\"[c01]\n",
    "b_instrument_amplification = 10\n",
    "b_instrument_type = coil\n",
    "b_logger_gain = 1\n",
    "b_logger_type = zen\n",
    "b_xaxis_azimuth = 0\n",
    "b_yaxis_azimuth = 90\n",
    "box = 26\n",
    "date = 2010/10/23\n",
    "e_instrument_amplification = 10\n",
    "e_instrument_type = Ag-AgCl electrodes\n",
    "e_logger_gain = 1\n",
    "e_logger_type = Ag-AgCl electrodes\n",
    "e_xaxis_azimuth = 0\n",
    "e_xaxis_length = 46 m\n",
    "e_yaxis_azimuth = 90\n",
    "e_yaxis_length = 49 m\n",
    "elevation = 2113.2\n",
    "hx = 2274\n",
    "hy = 2284\n",
    "hz = 2254\n",
    "lat = -27.1000003815\n",
    "location = Earth\n",
    "lon = 134.5\n",
    "station = c01\n",
    "station_type = mt\n",
    "sampling_interval = all\n",
    "\"\"\"\n",
    "\n",
    "dataset_P.EDI = \"\"\" >HEAD\n",
    "\n",
    "   DATAID=\"CP1B01\"               \n",
    "   ACQBY=\"Adelaide University\"   \n",
    "   ACQDATE=23/10/2010 01:00      \n",
    "   FILEDATE=17/02/11             \n",
    "   PROSPECT=\"Capricorn\"          \n",
    "   LOC=\"CP1B01\"                  \n",
    "   LAT=-22.48308                 \n",
    "   LONG=117.74262                \n",
    "   ELEV=639                      \n",
    "\n",
    " >INFO   MAXLINES=1000\n",
    "\n",
    " >=DEFINEMEAS\n",
    "\n",
    "   MAXCHAN=6\n",
    "   MAXRUN=999\n",
    "   MAXMEAS=99999\n",
    "   UNITS=M\n",
    "   REFTYPE=CART\n",
    "   REFLAT=-22.48308              \n",
    "   REFLONG=117.74262             \n",
    "   REFELEV=639                   \n",
    "\n",
    " >HMEAS ID= 1001.001 CHTYPE=HX X = 0.  Y = 0.  AZM = 0.\n",
    " >HMEAS ID= 1002.001 CHTYPE=HY X = 0.  Y = 0.  AZM= 90.\n",
    " >EMEAS ID= 1003.001 CHTYPE=EX X = 0.  Y = 0. X2 = 46.  Y2 = 0.\n",
    " >EMEAS ID= 1004.001 CHTYPE=EY X = 0.  Y = 0. X2 = 0.  Y2 = 49.\n",
    " >HMEAS ID= 1005.001 CHTYPE=HX X = 0.  Y = 0.  AZM= 0.\n",
    " >HMEAS ID= 1006.001 CHTYPE=HY X = 0.  Y = 0.  AZM= 90.\n",
    "\n",
    " >=MTSECT\n",
    "   SECTID=c01\n",
    "   NFREQ=   26\n",
    "   HX = 1001.001\n",
    "   HY = 1002.001\n",
    "   EX = 1003.001\n",
    "   EY = 1004.001\n",
    "   RX = 1005.001\n",
    "   RY = 1006.001\n",
    "\n",
    " >!****FREQUENCIES****!\n",
    " >FREQ NFREQ= 26  ORDER=INC // 26\n",
    "    0.38147E-01    0.61035E-01    0.76294E-01    0.12207E+00    0.15259E+00\n",
    "    0.24414E+00    0.30518E+00    0.48828E+00    0.61035E+00    0.97656E+00\n",
    "    0.12207E+01    0.19531E+01    0.24414E+01    0.39062E+01    0.48828E+01\n",
    "    0.78125E+01    0.97656E+01    0.15625E+02    0.19531E+02    0.31250E+02\n",
    "    0.39062E+02    0.62500E+02    0.78125E+02    0.12500E+03    0.15625E+03\n",
    "    0.25000E+03\n",
    " >!****IMPEDANCES****!\n",
    " >ZXXR // 26\n",
    "   -0.44327E+00   -0.26625E+01    0.46049E+00    0.56364E+00    0.57152E+00\n",
    "    0.59396E+00    0.59081E+00    0.67098E+00    0.62623E+00    0.59566E+00\n",
    "    0.62351E+00    0.79927E+00    0.95460E+00    0.16753E+01    0.23511E+01\n",
    "    0.40092E+01    0.42265E+01    0.59329E+01    0.67558E+01    0.64058E+01\n",
    "    0.11664E+02    0.86670E+01    0.44399E+01   -0.21714E+00   -0.29885E+01\n",
    "   -0.48281E+01\n",
    " >ZXXI // 26\n",
    "    0.46960E+00    0.39444E+00    0.37653E+00    0.35081E+00    0.37132E+00\n",
    "    0.42697E+00    0.34787E+00    0.27211E+00    0.42564E+00    0.77741E+00\n",
    "    0.10079E+01    0.15128E+01    0.17848E+01    0.26411E+01    0.29097E+01\n",
    "    0.32121E+01    0.32062E+01    0.19400E+01    0.22719E+00   -0.20125E+01\n",
    "    0.13069E+02    0.29387E+01   -0.19915E+01   -0.46283E+01   -0.42915E+01\n",
    "   -0.32431E+01\n",
    " >ZXX.VAR // 26\n",
    "    0.58392E+00    0.26810E+00    0.19542E-02    0.13228E-01    0.12507E-01\n",
    "    0.89072E-02    0.14495E-02    0.68923E-03    0.61660E-03    0.19105E-02\n",
    "    0.15167E-02    0.25468E-02    0.25983E-02    0.34299E-02    0.33525E-02\n",
    "    0.70537E-03    0.18979E-02    0.12378E-02    0.11475E-02    0.63023E-03\n",
    "    0.65161E-02    0.44747E-02    0.14962E-02    0.16737E-02    0.14638E-02\n",
    "    0.29286E-02\n",
    " >ZXYR // 26\n",
    "   -0.26648E-01    0.82435E+00    0.26319E+00    0.30035E+00    0.21084E+00\n",
    "    0.34265E-01   -0.10687E+00   -0.22633E+00   -0.35426E+00   -0.61359E+00\n",
    "   -0.70068E+00   -0.55762E+00   -0.22691E+00    0.20408E+01    0.51009E+01\n",
    "    0.15103E+02    0.23824E+02    0.43505E+02    0.56366E+02    0.73560E+02\n",
    "    0.69859E+02    0.78639E+02    0.82982E+02    0.87041E+02    0.82349E+02\n",
    "    0.82687E+02\n",
    " >ZXYI // 26\n",
    "   -0.95257E-01    0.56529E+00    0.16447E+00    0.12847E+00    0.22258E+00\n",
    "    0.73989E+00    0.98822E+00    0.16986E+01    0.23092E+01    0.39944E+01\n",
    "    0.53358E+01    0.91095E+01    0.11825E+02    0.20797E+02    0.26152E+02\n",
    "    0.38278E+02    0.42795E+02    0.49434E+02    0.48433E+02    0.41547E+02\n",
    "    0.22777E+02    0.19273E+02    0.22562E+02    0.23133E+02    0.24032E+02\n",
    "    0.25246E+02\n",
    " >ZXY.VAR // 26\n",
    "    0.42988E+00    0.43859E+00    0.20175E-02    0.13173E-01    0.13421E-01\n",
    "    0.75201E-02    0.14977E-02    0.13319E-02    0.96171E-03    0.25464E-02\n",
    "    0.15511E-02    0.38635E-02    0.38170E-02    0.46158E-02    0.60336E-02\n",
    "    0.27778E-02    0.46100E-02    0.16453E-02    0.13369E-02    0.58955E-03\n",
    "    0.53401E-02    0.48939E-02    0.19358E-02    0.23141E-02    0.24598E-02\n",
    "    0.44945E-02\n",
    " >ZYXR // 26\n",
    "   -0.22142E+01   -0.38310E+01   -0.40580E+01   -0.43981E+01   -0.46885E+01\n",
    "   -0.57701E+01   -0.61378E+01   -0.72024E+01   -0.78769E+01   -0.99293E+01\n",
    "   -0.11117E+02   -0.14394E+02   -0.16577E+02   -0.22670E+02   -0.27186E+02\n",
    "   -0.36239E+02   -0.40302E+02   -0.53441E+02   -0.59981E+02   -0.68305E+02\n",
    "   -0.79638E+02   -0.80522E+02   -0.78122E+02   -0.78447E+02   -0.73020E+02\n",
    "   -0.73578E+02\n",
    " >ZYXI // 26\n",
    "   -0.19394E+01    0.10589E-01   -0.24206E+01   -0.33747E+01   -0.37145E+01\n",
    "   -0.41992E+01   -0.51341E+01   -0.69401E+01   -0.76256E+01   -0.10168E+02\n",
    "   -0.11777E+02   -0.15617E+02   -0.17774E+02   -0.22825E+02   -0.25494E+02\n",
    "   -0.30058E+02   -0.30961E+02   -0.31538E+02   -0.30021E+02   -0.26204E+02\n",
    "   -0.21322E+02   -0.20073E+02   -0.22038E+02   -0.24485E+02   -0.25369E+02\n",
    "   -0.28741E+02\n",
    " >ZYX.VAR // 26\n",
    "    0.72531E+00    0.34810E+00    0.10581E-01    0.48191E-01    0.43113E-01\n",
    "    0.23871E-01    0.43235E-02    0.18267E-02    0.17336E-02    0.36324E-02\n",
    "    0.28214E-02    0.33997E-02    0.31387E-02    0.29680E-02    0.22117E-02\n",
    "    0.52945E-03    0.10360E-02    0.53337E-03    0.37994E-03    0.33570E-03\n",
    "    0.24485E-02    0.20074E-02    0.10057E-02    0.17054E-02    0.21290E-02\n",
    "    0.39388E-02\n",
    " >ZYYR // 26\n",
    "   -0.16580E+01    0.55103E-01   -0.29996E+01   -0.23860E+01   -0.21560E+01\n",
    "   -0.27695E+01   -0.28269E+01   -0.24845E+01   -0.21830E+01   -0.14827E+01\n",
    "   -0.11111E+01    0.35025E+00    0.11699E+01    0.40835E+01    0.60067E+01\n",
    "    0.89569E+01    0.89933E+01    0.79566E+01    0.54601E+01    0.12250E+01\n",
    "    0.74394E+01    0.16723E+01   -0.22411E+01   -0.41903E+01   -0.16425E+01\n",
    "   -0.69623E+00\n",
    " >ZYYI // 26\n",
    "   -0.90523E+00    0.25965E+00    0.11017E+00    0.41802E+00    0.62882E+00\n",
    "    0.10750E+01    0.12414E+01    0.20023E+01    0.20172E+01    0.27763E+01\n",
    "    0.32608E+01    0.41912E+01    0.47628E+01    0.54067E+01    0.46174E+01\n",
    "    0.21269E+01    0.24797E+00   -0.49399E+01   -0.68641E+01   -0.74936E+01\n",
    "   -0.12499E+02   -0.98253E+01   -0.57024E+01   -0.17552E+00    0.20136E+01\n",
    "    0.34510E+01\n",
    " >ZYY.VAR // 26\n",
    "    0.71284E+00    0.62434E+00    0.11302E-01    0.40725E-01    0.59773E-01\n",
    "    0.19966E-01    0.47040E-02    0.34225E-02    0.24680E-02    0.44178E-02\n",
    "    0.23959E-02    0.42534E-02    0.35118E-02    0.33370E-02    0.28465E-02\n",
    "    0.16291E-02    0.18247E-02    0.57730E-03    0.32430E-03    0.25724E-03\n",
    "    0.19862E-02    0.21254E-02    0.11422E-02    0.18330E-02    0.25298E-02\n",
    "    0.39368E-02\n",
    "\n",
    " >END\n",
    "\"\"\"\n",
    "\n"
   ]
  },
  {
   "cell_type": "markdown",
   "metadata": {},
   "source": [
    "### Close and save netCDF file"
   ]
  },
  {
   "cell_type": "code",
   "execution_count": 12,
   "metadata": {
    "collapsed": true
   },
   "outputs": [],
   "source": [
    "dataset_P.close()"
   ]
  },
  {
   "cell_type": "code",
   "execution_count": null,
   "metadata": {
    "collapsed": true
   },
   "outputs": [],
   "source": []
  },
  {
   "cell_type": "code",
   "execution_count": null,
   "metadata": {
    "collapsed": true
   },
   "outputs": [],
   "source": []
  },
  {
   "cell_type": "code",
   "execution_count": null,
   "metadata": {
    "collapsed": true
   },
   "outputs": [],
   "source": []
  },
  {
   "cell_type": "code",
   "execution_count": null,
   "metadata": {
    "collapsed": true
   },
   "outputs": [],
   "source": []
  },
  {
   "cell_type": "code",
   "execution_count": null,
   "metadata": {
    "collapsed": true
   },
   "outputs": [],
   "source": []
  },
  {
   "cell_type": "code",
   "execution_count": null,
   "metadata": {
    "collapsed": true
   },
   "outputs": [],
   "source": []
  },
  {
   "cell_type": "code",
   "execution_count": null,
   "metadata": {
    "collapsed": true
   },
   "outputs": [],
   "source": [
    "#%reset -f\n",
    "\n",
    "#%whos"
   ]
  },
  {
   "cell_type": "code",
   "execution_count": 136,
   "metadata": {
    "collapsed": false
   },
   "outputs": [],
   "source": [
    "# if __name__ == '__main__':\n",
    "#     procs = []\n",
    "    \n",
    "#     for ty in types:\n",
    "#         proc = Process(target=array_for_netcdf, args=(ty,))\n",
    "#         procs.append(proc)\n",
    "#         proc.start()\n",
    "\n",
    "#     for proc in procs:\n",
    "#         proc.join()\n"
   ]
  },
  {
   "cell_type": "code",
   "execution_count": null,
   "metadata": {
    "collapsed": true
   },
   "outputs": [],
   "source": [
    "#time = dataset_P.createDimension('time', None)\n",
    "\n",
    "#time = dataset_P.createDimension('time', len(TIME1))\n",
    "#time = dataset_P.createVariable('time',np.float64,('time',))\n",
    "#time.long_name = 'time of measurement'\n",
    "#time.units = 'seconds since 2013-12-03 00:00:00.0'\n",
    "#time.calendar = 'gregorian'\n",
    "#time[:] = TIME1\n",
    "\n",
    "#EX = dataset_P.createDimension('EX', len(EX1))\n",
    "#ex = dataset_P.createVariable('EX',np.float32,('EX',))\n",
    "#ex.units = 'counts'\n",
    "#ex[:] = EX1\n",
    "\n"
   ]
  },
  {
   "cell_type": "code",
   "execution_count": null,
   "metadata": {
    "collapsed": true
   },
   "outputs": [],
   "source": [
    "# dataset_P = Dataset('netCDF_test.nc','a')\n",
    "\n",
    "# lon1 = [134.5]\n",
    "\n",
    "# LON = dataset_P.createDimension('lon', len(lon1))\n",
    "# lons = dataset_P.createVariable('lon',np.float32,('lon',))\n",
    "# lons.units = 'degrees_east'\n",
    "# lons.long_name = 'longitude'\n",
    "# lons.standard_name = 'longitude'\n",
    "# lons[:] = lon1\n",
    "\n",
    "# lat1 = [-27.1]\n",
    "\n",
    "# LAT = dataset_P.createDimension('lat', len(lat1))\n",
    "# lats = dataset_P.createVariable('lat',np.float32,('lat',))\n",
    "# lats.units = 'degrees_north'\n",
    "# lats.long_name = 'latitude'\n",
    "# lats.standard_name = 'latitude'\n",
    "# lats[:] = lat1"
   ]
  },
  {
   "cell_type": "code",
   "execution_count": 25,
   "metadata": {
    "collapsed": true
   },
   "outputs": [],
   "source": [
    "# LEX = sorted([f for f in os.listdir(working_dir) if f.startswith('cp1') and f.endswith('.ex')])\n",
    "# EX1 = []\n",
    "\n",
    "# for file_ in LEX:\n",
    "#     df = open(file_)\n",
    "#     for line in df:\n",
    "#         EX1.append(line)\n",
    "        \n",
    "# LEY = sorted([f for f in os.listdir(working_dir) if f.startswith('cp1') and f.endswith('.ey')])\n",
    "# EY1 = []\n",
    "\n",
    "# for file_ in LEY:\n",
    "#     df = open(file_)\n",
    "#     for line in df:\n",
    "#         EY1.append(line)\n",
    "        \n",
    "\n",
    "# LBX = sorted([f for f in os.listdir(working_dir) if f.startswith('cp1') and f.endswith('.bx')])\n",
    "# BX1 = []\n",
    "\n",
    "# for file_ in LBX:\n",
    "#     df = open(file_)\n",
    "#     for line in df:\n",
    "#         BX1.append(line)      \n",
    "        \n",
    "# LBY = sorted([f for f in os.listdir(working_dir) if f.startswith('cp1') and f.endswith('.by')])\n",
    "# BY1 = []\n",
    "\n",
    "# for file_ in LBY:\n",
    "#     df = open(file_)\n",
    "#     for line in df:\n",
    "#         BY1.append(line)        \n",
    "        \n",
    "\n",
    "\n",
    "\n",
    "#lon1 = [134.5]*len(EX1)\n",
    "#lat1 = [-27.1]*len(EX1)\n",
    "#LTIME = sorted([f for f in os.listdir(working_dir) if f.endswith('.time')])\n",
    "#TIME1 = []\n",
    "\n",
    "#for file_ in LTIME:\n",
    "    #df = open(file_)\n",
    "    #for line in df:\n",
    "        #TIME1.append(line)\n",
    "       "
   ]
  }
 ],
 "metadata": {
  "kernelspec": {
   "display_name": "Python 2",
   "language": "python",
   "name": "python2"
  },
  "language_info": {
   "codemirror_mode": {
    "name": "ipython",
    "version": 2
   },
   "file_extension": ".py",
   "mimetype": "text/x-python",
   "name": "python",
   "nbconvert_exporter": "python",
   "pygments_lexer": "ipython2",
   "version": "2.7.11"
  }
 },
 "nbformat": 4,
 "nbformat_minor": 0
}
